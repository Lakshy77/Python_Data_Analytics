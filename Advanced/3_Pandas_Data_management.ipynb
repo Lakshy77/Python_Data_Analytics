{
 "cells": [
  {
   "cell_type": "code",
   "execution_count": 3,
   "id": "2c4c0995",
   "metadata": {},
   "outputs": [],
   "source": [
    "#Importing Libraries\n",
    "import pandas as pd\n",
    "from datasets import load_dataset\n",
    "import matplotlib.pyplot as plt\n",
    "\n",
    "#Loading Data\n",
    "dataset = load_dataset(\"lukebarousse/data_jobs\")\n",
    "df_orignal = dataset['train'].to_pandas()\n",
    "\n",
    "#Data cleaning\n",
    "df['job_posted_date'] = pd.to_datetime(df['job_posted_date'])"
   ]
  },
  {
   "cell_type": "code",
   "execution_count": 5,
   "id": "634c4d91",
   "metadata": {},
   "outputs": [],
   "source": [
    "df_altered = df_orignal.copy()"
   ]
  },
  {
   "cell_type": "code",
   "execution_count": 6,
   "id": "690a9be8",
   "metadata": {},
   "outputs": [
    {
     "name": "stdout",
     "output_type": "stream",
     "text": [
      "ID od df_orignal:  1528317589392\n",
      "ID od df_altered:  1528818578832\n",
      "Are the two dataframes equal:  False\n"
     ]
    }
   ],
   "source": [
    "print('ID od df_orignal: ', id(df_orignal))\n",
    "print('ID od df_altered: ', id(df_altered))\n",
    "print('Are the two dataframes equal: ', id(df_orignal)==id(df_altered))"
   ]
  },
  {
   "cell_type": "code",
   "execution_count": null,
   "id": "8878fad8",
   "metadata": {},
   "outputs": [],
   "source": []
  }
 ],
 "metadata": {
  "kernelspec": {
   "display_name": "python_course",
   "language": "python",
   "name": "python3"
  },
  "language_info": {
   "codemirror_mode": {
    "name": "ipython",
    "version": 3
   },
   "file_extension": ".py",
   "mimetype": "text/x-python",
   "name": "python",
   "nbconvert_exporter": "python",
   "pygments_lexer": "ipython3",
   "version": "3.11.13"
  }
 },
 "nbformat": 4,
 "nbformat_minor": 5
}
